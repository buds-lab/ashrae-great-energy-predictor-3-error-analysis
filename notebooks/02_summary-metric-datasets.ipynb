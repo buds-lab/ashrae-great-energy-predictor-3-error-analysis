{
 "cells": [
  {
   "cell_type": "markdown",
   "metadata": {},
   "source": [
    "# Summary metric datasets\n",
    "- Merged datasets will be grouped by `building_id` and `date` to calculate RMSLE. One dataset per meter, considering all 50 submissions."
   ]
  },
  {
   "cell_type": "code",
   "execution_count": 2,
   "metadata": {},
   "outputs": [],
   "source": [
    "import pandas as pd\n",
    "import numpy as np\n",
    "import glob\n",
    "import gzip\n",
    "import pickle\n",
    "from datetime import datetime\n",
    "from sklearn.metrics import mean_squared_log_error\n",
    "\n",
    "import sys\n",
    "sys.path.append(\"..\\\\source\\\\\")\n",
    "import utils as utils"
   ]
  },
  {
   "cell_type": "code",
   "execution_count": 3,
   "metadata": {},
   "outputs": [],
   "source": [
    "path_in = \"..\\\\data\\\\processed\\\\merged\\\\\"\n",
    "path_out = \"..\\\\data\\\\processed\\\\summary\\\\\""
   ]
  },
  {
   "cell_type": "code",
   "execution_count": 17,
   "metadata": {},
   "outputs": [],
   "source": [
    "def RMSLE(y_real, y_pred):\n",
    "    rmsle = np.sqrt(mean_squared_log_error( y_real, y_pred ))\n",
    "    return rmsle"
   ]
  },
  {
   "cell_type": "markdown",
   "metadata": {},
   "source": [
    "## Create dataset by meter"
   ]
  },
  {
   "cell_type": "code",
   "execution_count": 9,
   "metadata": {},
   "outputs": [
    {
     "output_type": "execute_result",
     "data": {
      "text/plain": "50"
     },
     "metadata": {},
     "execution_count": 9
    }
   ],
   "source": [
    "files = glob.glob(path_in + '*')\n",
    "len(files)"
   ]
  },
  {
   "cell_type": "code",
   "execution_count": 10,
   "metadata": {
    "tags": []
   },
   "outputs": [
    {
     "output_type": "stream",
     "name": "stdout",
     "text": "<class 'pandas.core.frame.DataFrame'>\nInt64Index: 41697600 entries, 0 to 41697599\nData columns (total 5 columns):\n #   Column       Dtype  \n---  ------       -----  \n 0   submission   float32\n 1   res          float32\n 2   building_id  int16  \n 3   meter        int8   \n 4   timestamp    object \ndtypes: float32(2), int16(1), int8(1), object(1)\nmemory usage: 1.0+ GB\n"
    }
   ],
   "source": [
    "df = pd.read_pickle(files[1])\n",
    "df.info()"
   ]
  },
  {
   "cell_type": "code",
   "execution_count": 11,
   "metadata": {},
   "outputs": [
    {
     "output_type": "execute_result",
     "data": {
      "text/plain": "    submission          res  building_id  meter            timestamp\n0   173.370300   173.369995            0      0  2017-01-01 00:00:00\n1    53.512718    53.512699            1      0  2017-01-01 00:00:00\n2     6.143042     6.143000            2      0  2017-01-01 00:00:00\n3   101.701469   101.700996            3      0  2017-01-01 00:00:00\n4  1141.240723  1141.239990            4      0  2017-01-01 00:00:00",
      "text/html": "<div>\n<style scoped>\n    .dataframe tbody tr th:only-of-type {\n        vertical-align: middle;\n    }\n\n    .dataframe tbody tr th {\n        vertical-align: top;\n    }\n\n    .dataframe thead th {\n        text-align: right;\n    }\n</style>\n<table border=\"1\" class=\"dataframe\">\n  <thead>\n    <tr style=\"text-align: right;\">\n      <th></th>\n      <th>submission</th>\n      <th>res</th>\n      <th>building_id</th>\n      <th>meter</th>\n      <th>timestamp</th>\n    </tr>\n  </thead>\n  <tbody>\n    <tr>\n      <th>0</th>\n      <td>173.370300</td>\n      <td>173.369995</td>\n      <td>0</td>\n      <td>0</td>\n      <td>2017-01-01 00:00:00</td>\n    </tr>\n    <tr>\n      <th>1</th>\n      <td>53.512718</td>\n      <td>53.512699</td>\n      <td>1</td>\n      <td>0</td>\n      <td>2017-01-01 00:00:00</td>\n    </tr>\n    <tr>\n      <th>2</th>\n      <td>6.143042</td>\n      <td>6.143000</td>\n      <td>2</td>\n      <td>0</td>\n      <td>2017-01-01 00:00:00</td>\n    </tr>\n    <tr>\n      <th>3</th>\n      <td>101.701469</td>\n      <td>101.700996</td>\n      <td>3</td>\n      <td>0</td>\n      <td>2017-01-01 00:00:00</td>\n    </tr>\n    <tr>\n      <th>4</th>\n      <td>1141.240723</td>\n      <td>1141.239990</td>\n      <td>4</td>\n      <td>0</td>\n      <td>2017-01-01 00:00:00</td>\n    </tr>\n  </tbody>\n</table>\n</div>"
     },
     "metadata": {},
     "execution_count": 11
    }
   ],
   "source": [
    "df.head()"
   ]
  },
  {
   "cell_type": "code",
   "execution_count": 12,
   "metadata": {
    "tags": []
   },
   "outputs": [
    {
     "output_type": "stream",
     "name": "stdout",
     "text": "13577404 - 2.0% (1 of 50)\nDataset 1 loaded\nDataset 1 filtered\nDataset 1 transformed\nDataset 1 append\n13768618 - 4.0% (2 of 50)\nDataset 2 loaded\nDataset 2 filtered\nDataset 2 transformed\nDataset 2 append\nData exported\n"
    }
   ],
   "source": [
    "# Meter\n",
    "meter = 0\n",
    "metername = {0: \"electricity\", 1: \"chilledwater\", 2: \"steam\", 3: \"hotwater\"}\n",
    "\n",
    "# Files to convert\n",
    "start = 0\n",
    "end = 2\n",
    "\n",
    "dfs = []\n",
    "for datafile in files[start:end]:\n",
    "\n",
    "    # file id\n",
    "    name = int(datafile.split(\"\\\\\")[-1].split(\"_\")[0].split(\"sub\")[1])\n",
    "\n",
    "    # Print progress\n",
    "    number = files.index(datafile) + 1\n",
    "    total = len(files)\n",
    "    progress = round(number * 100 / total,2)\n",
    "    print(f\"{name} - {progress}% ({number} of {len(files)})\")\n",
    "\n",
    "    # Load data\n",
    "    df = pd.read_pickle(datafile)\n",
    "    # rename\n",
    "    try:\n",
    "        df = df.rename(columns={\"res\":\"meter_reading\"})\n",
    "    except:\n",
    "        pass\n",
    "    print(f\"Dataset {number} loaded\")\n",
    "\n",
    "    # Filter data\n",
    "    df = df[df.meter == meter]\n",
    "    print(f\"Dataset {number} filtered\")\n",
    "\n",
    "    # Replace and drop all negative values\n",
    "    df.loc[df.submission < 0, \"submission\"] = np.nan\n",
    "    df.loc[df.meter_reading < 0, \"meter_reading\"] = np.nan\n",
    "    df.dropna(inplace=True)\n",
    "    # Convert to timestamp\n",
    "    df.timestamp = pd.to_datetime(df.timestamp, format=\"%Y-%m-%d %H:%M:%S\")\n",
    "    # Add submission id\n",
    "    df[\"sub_id\"] = name\n",
    "    print(f\"Dataset {number} transformed\")\n",
    "\n",
    "    # Append to list\n",
    "    dfs.append(df)\n",
    "    print(f\"Dataset {number} append\")\n",
    "\n",
    "# Concat all\n",
    "meter_df = pd.concat(dfs)  \n",
    "\n",
    "# Export df\n",
    "file = gzip.GzipFile(path_out + f'by_meter\\\\{metername[meter]}.pickle.gz', 'wb', 6)\n",
    "file.write(pickle.dumps(meter_df))\n",
    "file.close()\n",
    "print(f\"Data exported\")"
   ]
  },
  {
   "cell_type": "markdown",
   "metadata": {},
   "source": [
    "## Calculate RMSLE"
   ]
  },
  {
   "cell_type": "code",
   "execution_count": 14,
   "metadata": {},
   "outputs": [],
   "source": [
    "df = pd.read_pickle(path_out + f\"by_meter\\\\electricity.pickle.gz\")\n",
    "df.timestamp = pd.to_datetime(df.timestamp, format=\"%Y-%m-%d %H:%M:%S\")"
   ]
  },
  {
   "cell_type": "code",
   "execution_count": 17,
   "metadata": {
    "tags": []
   },
   "outputs": [
    {
     "output_type": "stream",
     "name": "stdout",
     "text": "<class 'pandas.core.frame.DataFrame'>\nInt64Index: 48325390 entries, 0 to 41693189\nData columns (total 6 columns):\n #   Column         Dtype         \n---  ------         -----         \n 0   submission     float32       \n 1   meter_reading  float32       \n 2   building_id    int16         \n 3   meter          int8          \n 4   timestamp      datetime64[ns]\n 5   sub_id         int64         \ndtypes: datetime64[ns](1), float32(2), int16(1), int64(1), int8(1)\nmemory usage: 2.2 GB\n"
    }
   ],
   "source": [
    "df.info()"
   ]
  },
  {
   "cell_type": "code",
   "execution_count": 15,
   "metadata": {},
   "outputs": [
    {
     "output_type": "execute_result",
     "data": {
      "text/plain": "     submission  meter_reading  building_id  meter  timestamp    sub_id\n0    173.370300     173.369995            0      0 2017-01-01  13577404\n1     53.512699      53.512699            1      0 2017-01-01  13577404\n2      6.143000       6.143000            2      0 2017-01-01  13577404\n3    101.701500     101.700996            3      0 2017-01-01  13577404\n4   1141.240723    1141.239990            4      0 2017-01-01  13577404\n5     13.651200      13.651200            5      0 2017-01-01  13577404\n6    260.874512     260.875000            6      0 2017-01-01  13577404\n7    502.705597     502.705994            7      0 2017-01-01  13577404\n9    513.285278     513.284973            8      0 2017-01-01  13577404\n10    61.840000      61.840000            9      0 2017-01-01  13577404\n12  1806.736816    1806.739990           10      0 2017-01-01  13577404\n13   472.331696     472.332001           11      0 2017-01-01  13577404\n14   298.620087     298.619995           12      0 2017-01-01  13577404\n15   308.858490     308.858002           13      0 2017-01-01  13577404\n17   263.468201     263.467987           14      0 2017-01-01  13577404\n19   176.441803     176.442001           15      0 2017-01-01  13577404\n21  1299.048584    1299.050049           16      0 2017-01-01  13577404\n22   165.589096     165.589005           17      0 2017-01-01  13577404\n23  2070.614746    2070.610107           18      0 2017-01-01  13577404\n24   174.735397     174.735001           19      0 2017-01-01  13577404",
      "text/html": "<div>\n<style scoped>\n    .dataframe tbody tr th:only-of-type {\n        vertical-align: middle;\n    }\n\n    .dataframe tbody tr th {\n        vertical-align: top;\n    }\n\n    .dataframe thead th {\n        text-align: right;\n    }\n</style>\n<table border=\"1\" class=\"dataframe\">\n  <thead>\n    <tr style=\"text-align: right;\">\n      <th></th>\n      <th>submission</th>\n      <th>meter_reading</th>\n      <th>building_id</th>\n      <th>meter</th>\n      <th>timestamp</th>\n      <th>sub_id</th>\n    </tr>\n  </thead>\n  <tbody>\n    <tr>\n      <th>0</th>\n      <td>173.370300</td>\n      <td>173.369995</td>\n      <td>0</td>\n      <td>0</td>\n      <td>2017-01-01</td>\n      <td>13577404</td>\n    </tr>\n    <tr>\n      <th>1</th>\n      <td>53.512699</td>\n      <td>53.512699</td>\n      <td>1</td>\n      <td>0</td>\n      <td>2017-01-01</td>\n      <td>13577404</td>\n    </tr>\n    <tr>\n      <th>2</th>\n      <td>6.143000</td>\n      <td>6.143000</td>\n      <td>2</td>\n      <td>0</td>\n      <td>2017-01-01</td>\n      <td>13577404</td>\n    </tr>\n    <tr>\n      <th>3</th>\n      <td>101.701500</td>\n      <td>101.700996</td>\n      <td>3</td>\n      <td>0</td>\n      <td>2017-01-01</td>\n      <td>13577404</td>\n    </tr>\n    <tr>\n      <th>4</th>\n      <td>1141.240723</td>\n      <td>1141.239990</td>\n      <td>4</td>\n      <td>0</td>\n      <td>2017-01-01</td>\n      <td>13577404</td>\n    </tr>\n    <tr>\n      <th>5</th>\n      <td>13.651200</td>\n      <td>13.651200</td>\n      <td>5</td>\n      <td>0</td>\n      <td>2017-01-01</td>\n      <td>13577404</td>\n    </tr>\n    <tr>\n      <th>6</th>\n      <td>260.874512</td>\n      <td>260.875000</td>\n      <td>6</td>\n      <td>0</td>\n      <td>2017-01-01</td>\n      <td>13577404</td>\n    </tr>\n    <tr>\n      <th>7</th>\n      <td>502.705597</td>\n      <td>502.705994</td>\n      <td>7</td>\n      <td>0</td>\n      <td>2017-01-01</td>\n      <td>13577404</td>\n    </tr>\n    <tr>\n      <th>9</th>\n      <td>513.285278</td>\n      <td>513.284973</td>\n      <td>8</td>\n      <td>0</td>\n      <td>2017-01-01</td>\n      <td>13577404</td>\n    </tr>\n    <tr>\n      <th>10</th>\n      <td>61.840000</td>\n      <td>61.840000</td>\n      <td>9</td>\n      <td>0</td>\n      <td>2017-01-01</td>\n      <td>13577404</td>\n    </tr>\n    <tr>\n      <th>12</th>\n      <td>1806.736816</td>\n      <td>1806.739990</td>\n      <td>10</td>\n      <td>0</td>\n      <td>2017-01-01</td>\n      <td>13577404</td>\n    </tr>\n    <tr>\n      <th>13</th>\n      <td>472.331696</td>\n      <td>472.332001</td>\n      <td>11</td>\n      <td>0</td>\n      <td>2017-01-01</td>\n      <td>13577404</td>\n    </tr>\n    <tr>\n      <th>14</th>\n      <td>298.620087</td>\n      <td>298.619995</td>\n      <td>12</td>\n      <td>0</td>\n      <td>2017-01-01</td>\n      <td>13577404</td>\n    </tr>\n    <tr>\n      <th>15</th>\n      <td>308.858490</td>\n      <td>308.858002</td>\n      <td>13</td>\n      <td>0</td>\n      <td>2017-01-01</td>\n      <td>13577404</td>\n    </tr>\n    <tr>\n      <th>17</th>\n      <td>263.468201</td>\n      <td>263.467987</td>\n      <td>14</td>\n      <td>0</td>\n      <td>2017-01-01</td>\n      <td>13577404</td>\n    </tr>\n    <tr>\n      <th>19</th>\n      <td>176.441803</td>\n      <td>176.442001</td>\n      <td>15</td>\n      <td>0</td>\n      <td>2017-01-01</td>\n      <td>13577404</td>\n    </tr>\n    <tr>\n      <th>21</th>\n      <td>1299.048584</td>\n      <td>1299.050049</td>\n      <td>16</td>\n      <td>0</td>\n      <td>2017-01-01</td>\n      <td>13577404</td>\n    </tr>\n    <tr>\n      <th>22</th>\n      <td>165.589096</td>\n      <td>165.589005</td>\n      <td>17</td>\n      <td>0</td>\n      <td>2017-01-01</td>\n      <td>13577404</td>\n    </tr>\n    <tr>\n      <th>23</th>\n      <td>2070.614746</td>\n      <td>2070.610107</td>\n      <td>18</td>\n      <td>0</td>\n      <td>2017-01-01</td>\n      <td>13577404</td>\n    </tr>\n    <tr>\n      <th>24</th>\n      <td>174.735397</td>\n      <td>174.735001</td>\n      <td>19</td>\n      <td>0</td>\n      <td>2017-01-01</td>\n      <td>13577404</td>\n    </tr>\n  </tbody>\n</table>\n</div>"
     },
     "metadata": {},
     "execution_count": 15
    }
   ],
   "source": [
    "df.head(20)"
   ]
  },
  {
   "cell_type": "code",
   "execution_count": 18,
   "metadata": {
    "tags": []
   },
   "outputs": [
    {
     "output_type": "stream",
     "name": "stdout",
     "text": "Data loaded\nGrouping by bdg, date\nData summary created\nData summary exported\n"
    }
   ],
   "source": [
    "# Meter\n",
    "metername = {0: \"electricity\", 1: \"chilledwater\", 2: \"steam\", 3: \"hotwater\"}\n",
    "meter_list = list(metername.keys())\n",
    "\n",
    "for meter in meter_list:\n",
    "\n",
    "    # Load data\n",
    "    df = pd.read_pickle(path_out + f\"by_meter\\\\{metername[meter]}.pickle.gz\")\n",
    "    print(f\"Data loaded\")\n",
    "\n",
    "    # Get summary metrics\n",
    "    print(\"Grouping by bdg, date\")\n",
    "\n",
    "    # Group\n",
    "    df = pd.DataFrame(df.groupby([\"building_id\",df.timestamp.dt.date])[\"submission\",\"meter_reading\"].apply(lambda group: RMSLE(group[\"meter_reading\"], group[\"submission\"]))).reset_index()\n",
    "\n",
    "    # Rename columns\n",
    "    df = df.rename(columns={0:\"rmsle\"})\n",
    "    print(\"Data summary created\")\n",
    "\n",
    "    # Export df\n",
    "    file = gzip.GzipFile(path_out + f'summary\\\\{metername[meter]}_RMSLE.pickle.gz', 'wb', 6)\n",
    "    file.write(pickle.dumps(df))\n",
    "    file.close()\n",
    "    print(f\"Data summary exported\")"
   ]
  },
  {
   "cell_type": "code",
   "execution_count": 22,
   "metadata": {},
   "outputs": [
    {
     "output_type": "execute_result",
     "data": {
      "text/plain": "730"
     },
     "metadata": {},
     "execution_count": 22
    }
   ],
   "source": [
    "len(df.timestamp.unique())"
   ]
  }
 ],
 "metadata": {
  "kernelspec": {
   "display_name": "Python 3",
   "language": "python",
   "name": "python3"
  },
  "language_info": {
   "codemirror_mode": {
    "name": "ipython",
    "version": 3
   },
   "file_extension": ".py",
   "mimetype": "text/x-python",
   "name": "python",
   "nbconvert_exporter": "python",
   "pygments_lexer": "ipython3",
   "version": "3.7.6-final"
  }
 },
 "nbformat": 4,
 "nbformat_minor": 4
}