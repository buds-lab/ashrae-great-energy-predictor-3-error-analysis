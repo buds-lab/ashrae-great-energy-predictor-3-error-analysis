{
 "metadata": {
  "language_info": {
   "codemirror_mode": {
    "name": "ipython",
    "version": 3
   },
   "file_extension": ".py",
   "mimetype": "text/x-python",
   "name": "python",
   "nbconvert_exporter": "python",
   "pygments_lexer": "ipython3",
   "version": "3.7.6-final"
  },
  "orig_nbformat": 2,
  "kernelspec": {
   "name": "python_defaultSpec_1598655745976",
   "display_name": "Python 3"
  }
 },
 "nbformat": 4,
 "nbformat_minor": 2,
 "cells": [
  {
   "cell_type": "markdown",
   "metadata": {},
   "source": [
    "# Residuals summary datasets\n",
    "In this notebook the following task will be done:\n",
    "- Create summary datasets, summarised by regresion metric RMSLE."
   ]
  },
  {
   "cell_type": "code",
   "execution_count": 1,
   "metadata": {},
   "outputs": [],
   "source": [
    "import pandas as pd\n",
    "import numpy as np\n",
    "import glob\n",
    "import gzip\n",
    "import pickle\n",
    "import sys\n",
    "import datetime as dt\n",
    "from sklearn.metrics import mean_squared_log_error\n",
    "\n",
    "sys.path.append(\"..\\\\source\\\\\")\n",
    "import utils as utils"
   ]
  },
  {
   "cell_type": "code",
   "execution_count": 2,
   "metadata": {},
   "outputs": [],
   "source": [
    "path_in = \"..\\\\data\\\\original\\\\\"\n",
    "path_out = \"..\\\\data\\\\processed\\\\\""
   ]
  },
  {
   "cell_type": "markdown",
   "metadata": {},
   "source": [
    "## Load files list"
   ]
  },
  {
   "cell_type": "code",
   "execution_count": 4,
   "metadata": {},
   "outputs": [
    {
     "output_type": "execute_result",
     "data": {
      "text/plain": "50"
     },
     "metadata": {},
     "execution_count": 4
    }
   ],
   "source": [
    "# Susb + solution files\n",
    "files = glob.glob(path_out + \"merged\\\\*\")\n",
    "len(files)"
   ]
  },
  {
   "cell_type": "code",
   "execution_count": 5,
   "metadata": {},
   "outputs": [
    {
     "output_type": "execute_result",
     "data": {
      "text/plain": "'..\\\\data\\\\processed\\\\merged\\\\sub13577404_merged.pickle.gz'"
     },
     "metadata": {},
     "execution_count": 5
    }
   ],
   "source": [
    "files[0]"
   ]
  },
  {
   "cell_type": "markdown",
   "metadata": {},
   "source": [
    "## Summary datasets"
   ]
  },
  {
   "cell_type": "code",
   "execution_count": 21,
   "metadata": {
    "tags": []
   },
   "outputs": [
    {
     "output_type": "stream",
     "name": "stdout",
     "text": "sub13768618 - 4.0% (2 of 50)\nData loaded\nData transformed\nMem. usage decreased to 1051.92 Mb (0.0% reduction)\nGrouping by meter, date\nData summary created\nData exported\n\nsub13768660 - 6.0% (3 of 50)\nData loaded\nData transformed\nMem. usage decreased to 1051.92 Mb (0.0% reduction)\nGrouping by meter, date\nData summary created\nData exported\n\nsub13806350 - 8.0% (4 of 50)\nData loaded\nData transformed\nMem. usage decreased to 1051.92 Mb (0.0% reduction)\nGrouping by meter, date\nData summary created\nData exported\n\nsub13808838 - 10.0% (5 of 50)\nData loaded\nData transformed\nMem. usage decreased to 1051.92 Mb (0.0% reduction)\nGrouping by meter, date\nData summary created\nData exported\n\nsub13810582 - 12.0% (6 of 50)\nData loaded\nData transformed\nMem. usage decreased to 1051.92 Mb (0.0% reduction)\nGrouping by meter, date\nData summary created\nData exported\n\nsub13812777 - 14.0% (7 of 50)\nData loaded\nData transformed\nMem. usage decreased to 1051.92 Mb (0.0% reduction)\nGrouping by meter, date\nData summary created\nData exported\n\nsub13819396 - 16.0% (8 of 50)\nData loaded\nData transformed\nMem. usage decreased to 1051.92 Mb (0.0% reduction)\nGrouping by meter, date\nData summary created\nData exported\n\nsub13821697 - 18.0% (9 of 50)\nData loaded\nData transformed\nMem. usage decreased to 1051.92 Mb (0.0% reduction)\nGrouping by meter, date\nData summary created\nData exported\n\nsub13821715 - 20.0% (10 of 50)\nData loaded\nData transformed\nMem. usage decreased to 1051.92 Mb (0.0% reduction)\nGrouping by meter, date\nData summary created\nData exported\n\nsub13821811 - 22.0% (11 of 50)\nData loaded\nData transformed\nMem. usage decreased to 1051.92 Mb (0.0% reduction)\nGrouping by meter, date\nData summary created\nData exported\n\nsub13824794 - 24.0% (12 of 50)\nData loaded\nData transformed\nMem. usage decreased to 1051.92 Mb (0.0% reduction)\nGrouping by meter, date\nData summary created\nData exported\n\nsub13836206 - 26.0% (13 of 50)\nData loaded\nData transformed\nMem. usage decreased to 1051.92 Mb (0.0% reduction)\nGrouping by meter, date\nData summary created\nData exported\n\nsub13837629 - 28.0% (14 of 50)\nData loaded\nData transformed\nMem. usage decreased to 974.00 Mb (0.0% reduction)\nGrouping by meter, date\nData summary created\nData exported\n\nsub13840907 - 30.0% (15 of 50)\nData loaded\nData transformed\nMem. usage decreased to 1051.92 Mb (0.0% reduction)\nGrouping by meter, date\nData summary created\nData exported\n\nsub13843576 - 32.0% (16 of 50)\nData loaded\nData transformed\nMem. usage decreased to 1051.92 Mb (0.0% reduction)\nGrouping by meter, date\nData summary created\nData exported\n\nsub13846739 - 34.0% (17 of 50)\nData loaded\nData transformed\nMem. usage decreased to 1051.92 Mb (0.0% reduction)\nGrouping by meter, date\nData summary created\nData exported\n\nsub13846982 - 36.0% (18 of 50)\nData loaded\nData transformed\nMem. usage decreased to 1051.92 Mb (0.0% reduction)\nGrouping by meter, date\nData summary created\nData exported\n\nsub13851881 - 38.0% (19 of 50)\nData loaded\nData transformed\nMem. usage decreased to 1051.92 Mb (0.0% reduction)\nGrouping by meter, date\nData summary created\nData exported\n\nsub13852585 - 40.0% (20 of 50)\nData loaded\nData transformed\nMem. usage decreased to 1051.92 Mb (0.0% reduction)\nGrouping by meter, date\nData summary created\nData exported\n\nsub13852810 - 42.0% (21 of 50)\nData loaded\nData transformed\nMem. usage decreased to 1051.92 Mb (0.0% reduction)\nGrouping by meter, date\nData summary created\nData exported\n\nsub13853013 - 44.0% (22 of 50)\nData loaded\nData transformed\nMem. usage decreased to 1051.92 Mb (0.0% reduction)\nGrouping by meter, date\nData summary created\nData exported\n\nsub13854058 - 46.0% (23 of 50)\nData loaded\nData transformed\nMem. usage decreased to 1051.92 Mb (0.0% reduction)\nGrouping by meter, date\nData summary created\nData exported\n\nsub13854746 - 48.0% (24 of 50)\nData loaded\nData transformed\nMem. usage decreased to 1051.92 Mb (0.0% reduction)\nGrouping by meter, date\nData summary created\nData exported\n\nsub13855061 - 50.0% (25 of 50)\nData loaded\nData transformed\nMem. usage decreased to 1051.92 Mb (0.0% reduction)\nGrouping by meter, date\nData summary created\nData exported\n\nsub13855445 - 52.0% (26 of 50)\nData loaded\nData transformed\nMem. usage decreased to 1051.92 Mb (0.0% reduction)\nGrouping by meter, date\nData summary created\nData exported\n\nsub13856190 - 54.0% (27 of 50)\nData loaded\nData transformed\nMem. usage decreased to 1051.92 Mb (0.0% reduction)\nGrouping by meter, date\nData summary created\nData exported\n\nsub13857716 - 56.0% (28 of 50)\nData loaded\nData transformed\nMem. usage decreased to 1051.92 Mb (0.0% reduction)\nGrouping by meter, date\nData summary created\nData exported\n\nsub13858760 - 58.0% (29 of 50)\nData loaded\nData transformed\nMem. usage decreased to 1051.92 Mb (0.0% reduction)\nGrouping by meter, date\nData summary created\nData exported\n\nsub13859685 - 60.0% (30 of 50)\nData loaded\nData transformed\nMem. usage decreased to 1051.92 Mb (0.0% reduction)\nGrouping by meter, date\nData summary created\nData exported\n\nsub13859917 - 62.0% (31 of 50)\nData loaded\nData transformed\nMem. usage decreased to 1051.92 Mb (0.0% reduction)\nGrouping by meter, date\nData summary created\nData exported\n\nsub13861960 - 64.0% (32 of 50)\nData loaded\nData transformed\nMem. usage decreased to 1051.92 Mb (0.0% reduction)\nGrouping by meter, date\nData summary created\nData exported\n\nsub13862458 - 66.0% (33 of 50)\nData loaded\nData transformed\nMem. usage decreased to 1051.92 Mb (0.0% reduction)\nGrouping by meter, date\nData summary created\nData exported\n\nsub13862516 - 68.0% (34 of 50)\nData loaded\nData transformed\nMem. usage decreased to 1051.92 Mb (0.0% reduction)\nGrouping by meter, date\nData summary created\nData exported\n\nsub13862695 - 70.0% (35 of 50)\nData loaded\nData transformed\nMem. usage decreased to 1051.92 Mb (0.0% reduction)\nGrouping by meter, date\nData summary created\nData exported\n\nsub13862717 - 72.0% (36 of 50)\nData loaded\nData transformed\nMem. usage decreased to 1051.92 Mb (0.0% reduction)\nGrouping by meter, date\nData summary created\nData exported\n\nsub13862875 - 74.0% (37 of 50)\nData loaded\nData transformed\nMem. usage decreased to 1051.92 Mb (0.0% reduction)\nGrouping by meter, date\nData summary created\nData exported\n\nsub13863380 - 76.0% (38 of 50)\nData loaded\nData transformed\nMem. usage decreased to 1051.92 Mb (0.0% reduction)\nGrouping by meter, date\nData summary created\nData exported\n\nsub13863401 - 78.0% (39 of 50)\nData loaded\nData transformed\nMem. usage decreased to 1051.92 Mb (0.0% reduction)\nGrouping by meter, date\nData summary created\nData exported\n\nsub13864060 - 80.0% (40 of 50)\nData loaded\nData transformed\nMem. usage decreased to 1051.92 Mb (0.0% reduction)\nGrouping by meter, date\nData summary created\nData exported\n\nsub13864638 - 82.0% (41 of 50)\nData loaded\nData transformed\nMem. usage decreased to 1051.92 Mb (0.0% reduction)\nGrouping by meter, date\nData summary created\nData exported\n\nsub13865189 - 84.0% (42 of 50)\nData loaded\nData transformed\nMem. usage decreased to 1051.92 Mb (0.0% reduction)\nGrouping by meter, date\nData summary created\nData exported\n\nsub13865192 - 86.0% (43 of 50)\nData loaded\nData transformed\nMem. usage decreased to 1051.92 Mb (0.0% reduction)\nGrouping by meter, date\nData summary created\nData exported\n\nsub13865584 - 88.0% (44 of 50)\nData loaded\nData transformed\nMem. usage decreased to 1051.92 Mb (0.0% reduction)\nGrouping by meter, date\nData summary created\nData exported\n\nsub13865820 - 90.0% (45 of 50)\nData loaded\nData transformed\nMem. usage decreased to 1051.92 Mb (0.0% reduction)\nGrouping by meter, date\nData summary created\nData exported\n\nsub13866063 - 92.0% (46 of 50)\nData loaded\nData transformed\nMem. usage decreased to 1051.92 Mb (0.0% reduction)\nGrouping by meter, date\nData summary created\nData exported\n\nsub13866280 - 94.0% (47 of 50)\nData loaded\nData transformed\nMem. usage decreased to 1051.92 Mb (0.0% reduction)\nGrouping by meter, date\nData summary created\nData exported\n\nsub13866386 - 96.0% (48 of 50)\nData loaded\nData transformed\nMem. usage decreased to 1051.92 Mb (0.0% reduction)\nGrouping by meter, date\nData summary created\nData exported\n\nsub13866389 - 98.0% (49 of 50)\nData loaded\nData transformed\nMem. usage decreased to 1051.92 Mb (0.0% reduction)\nGrouping by meter, date\nData summary created\nData exported\n\nsub13866501 - 100.0% (50 of 50)\nData loaded\nData transformed\nMem. usage decreased to 1051.92 Mb (0.0% reduction)\nGrouping by meter, date\nData summary created\nData exported\n\n"
    }
   ],
   "source": [
    "# General script\n",
    "\n",
    "# Groupby\n",
    "#gb = \"groupby_bdg_meter\"\n",
    "#gb = \"groupby_bdg_meter_date\"\n",
    "gb = \"groupby_meter_date\"\n",
    "\n",
    "# Files to convert\n",
    "start = 1\n",
    "end = 51\n",
    "\n",
    "for datafile in files[start:end]:\n",
    "\n",
    "    # file id\n",
    "    name = datafile.split(\"\\\\\")[-1].split(\"_\")[0]\n",
    "\n",
    "    # Print progress\n",
    "    number = files.index(datafile) + 1\n",
    "    total = len(files)\n",
    "    progress = round(number * 100 / total,2)\n",
    "    print(f\"{name} - {progress}% ({number} of {len(files)})\")\n",
    "\n",
    "    # Load data\n",
    "    df = pd.read_pickle(datafile)\n",
    "    print(f\"Data loaded\")\n",
    "\n",
    "    # Rename\n",
    "    df = df.rename(columns={\"res\":\"meter_reading\"})\n",
    "    # Replace all negative values in submission\n",
    "    df.loc[df.submission < 0, \"submission\"] = 0\n",
    "    # Drop NaN\n",
    "    df.dropna(inplace=True)\n",
    "    print(\"Data transformed\")\n",
    "    # Reduce memory use\n",
    "    df = utils.reduce_mem_usage(df)\n",
    "\n",
    "    # Get summary metrics\n",
    "    if gb == \"groupby_bdg_date\":\n",
    "        print(\"Grouping by bdg, meter\")\n",
    "        #drop useless columns\n",
    "        df.drop(\"timestamp\",axis=1,inplace=True)\n",
    "        # Group\n",
    "        df = df.groupby([\"building_id\",\"meter\"])[\"submission\",\"meter_reading\"].apply(lambda group: utils.RMSLE(group[\"meter_reading\"], group[\"submission\"]))\n",
    "\n",
    "    elif gb == \"groupby_bdg_meter_date\":\n",
    "        print(\"Grouping by bdg, meter, date\")\n",
    "        # Convert to timestamp\n",
    "        df.timestamp = pd.to_datetime(df.timestamp, format=\"%Y-%m-%d %H:%M:%S\")\n",
    "        # Group\n",
    "        df = pd.DataFrame(df.groupby([\"building_id\",\"meter\",df.timestamp.dt.date])[\"submission\",\"meter_reading\"].apply(lambda group: utils.RMSLE(group[\"meter_reading\"], group[\"submission\"]))).reset_index()\n",
    "\n",
    "    elif gb == \"groupby_meter_date\":\n",
    "        print(\"Grouping by meter, date\")\n",
    "        # Convert to timestamp\n",
    "        df.timestamp = pd.to_datetime(df.timestamp, format=\"%Y-%m-%d %H:%M:%S\")\n",
    "        #drop useless columns\n",
    "        df.drop(\"building_id\",axis=1,inplace=True)\n",
    "        # Group\n",
    "        df = df.groupby([\"meter\",df.timestamp.dt.date])[\"submission\",\"meter_reading\"].apply(lambda group: utils.RMSLE(group[\"meter_reading\"], group[\"submission\"]))\n",
    "\n",
    "    # Rename\n",
    "    df = df.reset_index()\n",
    "    # Rename columns\n",
    "    df = df.rename(columns={0:\"rmsle\"})\n",
    "    print(\"Data summary created\")\n",
    "\n",
    "    # Export df\n",
    "    file = gzip.GzipFile(path_out + f'summary\\\\{gb}\\\\{name}.pickle.gz', 'wb', 6)\n",
    "    file.write(pickle.dumps(df))\n",
    "    file.close()\n",
    "    print(f\"Data exported\")\n",
    "    \n",
    "    print(\"\")"
   ]
  },
  {
   "cell_type": "markdown",
   "metadata": {},
   "source": [
    "## Concat all"
   ]
  },
  {
   "cell_type": "code",
   "execution_count": 22,
   "metadata": {},
   "outputs": [],
   "source": [
    "# Groupby\n",
    "#gb = \"groupby_bdg_meter\"\n",
    "#gb = \"groupby_bdg_meter_date\"\n",
    "gb = \"groupby_meter_date\""
   ]
  },
  {
   "cell_type": "code",
   "execution_count": 23,
   "metadata": {},
   "outputs": [
    {
     "output_type": "execute_result",
     "data": {
      "text/plain": "50"
     },
     "metadata": {},
     "execution_count": 23
    }
   ],
   "source": [
    "files = glob.glob(path_out + f\"summary\\\\{gb}\\\\*\" )\n",
    "len(files)"
   ]
  },
  {
   "cell_type": "code",
   "execution_count": 33,
   "metadata": {},
   "outputs": [],
   "source": [
    "dfs = []\n",
    "for datafile in files:\n",
    "    # File id\n",
    "    #name = int(datafile.split(\"\\\\\")[-1].split(\"_\")[1].split(\".\")[0].split(\"sub\")[1])\n",
    "    name = int(datafile.split(\"\\\\\")[-1].split(\".\")[0].split(\"sub\")[1])\n",
    "    # Load dataset\n",
    "    df = pd.read_pickle(datafile)\n",
    "    # Add id\n",
    "    df[\"file_id\"] = name\n",
    "    dfs.append(df)"
   ]
  },
  {
   "cell_type": "code",
   "execution_count": 34,
   "metadata": {},
   "outputs": [],
   "source": [
    "df_concat = pd.concat(dfs)"
   ]
  },
  {
   "cell_type": "code",
   "execution_count": 35,
   "metadata": {},
   "outputs": [
    {
     "output_type": "execute_result",
     "data": {
      "text/plain": "   meter   timestamp     rmsle   file_id\n0      0  2017-01-01  0.466707  13577404\n1      0  2017-01-02  0.465356  13577404\n2      0  2017-01-03  0.486281  13577404\n3      0  2017-01-04  0.490924  13577404\n4      0  2017-01-05  0.476774  13577404",
      "text/html": "<div>\n<style scoped>\n    .dataframe tbody tr th:only-of-type {\n        vertical-align: middle;\n    }\n\n    .dataframe tbody tr th {\n        vertical-align: top;\n    }\n\n    .dataframe thead th {\n        text-align: right;\n    }\n</style>\n<table border=\"1\" class=\"dataframe\">\n  <thead>\n    <tr style=\"text-align: right;\">\n      <th></th>\n      <th>meter</th>\n      <th>timestamp</th>\n      <th>rmsle</th>\n      <th>file_id</th>\n    </tr>\n  </thead>\n  <tbody>\n    <tr>\n      <th>0</th>\n      <td>0</td>\n      <td>2017-01-01</td>\n      <td>0.466707</td>\n      <td>13577404</td>\n    </tr>\n    <tr>\n      <th>1</th>\n      <td>0</td>\n      <td>2017-01-02</td>\n      <td>0.465356</td>\n      <td>13577404</td>\n    </tr>\n    <tr>\n      <th>2</th>\n      <td>0</td>\n      <td>2017-01-03</td>\n      <td>0.486281</td>\n      <td>13577404</td>\n    </tr>\n    <tr>\n      <th>3</th>\n      <td>0</td>\n      <td>2017-01-04</td>\n      <td>0.490924</td>\n      <td>13577404</td>\n    </tr>\n    <tr>\n      <th>4</th>\n      <td>0</td>\n      <td>2017-01-05</td>\n      <td>0.476774</td>\n      <td>13577404</td>\n    </tr>\n  </tbody>\n</table>\n</div>"
     },
     "metadata": {},
     "execution_count": 35
    }
   ],
   "source": [
    "df_concat.head()"
   ]
  },
  {
   "cell_type": "code",
   "execution_count": 36,
   "metadata": {},
   "outputs": [],
   "source": [
    "del(dfs)"
   ]
  },
  {
   "cell_type": "code",
   "execution_count": 37,
   "metadata": {
    "tags": []
   },
   "outputs": [
    {
     "output_type": "stream",
     "name": "stdout",
     "text": "Mem. usage decreased to  3.20 Mb (42.5% reduction)\n"
    }
   ],
   "source": [
    "df_concat = utils.reduce_mem_usage(df_concat)"
   ]
  },
  {
   "cell_type": "code",
   "execution_count": 14,
   "metadata": {},
   "outputs": [],
   "source": [
    "file = gzip.GzipFile(path_out + f\"summary\\\\{gb}.pickle.gz\", 'wb', 6)\n",
    "file.write(pickle.dumps(df_concat))\n",
    "file.close()"
   ]
  },
  {
   "cell_type": "code",
   "execution_count": 38,
   "metadata": {},
   "outputs": [],
   "source": [
    "df_concat.to_csv(path_out + f\"summary\\\\{gb}.csv\", index=False)"
   ]
  }
 ]
}